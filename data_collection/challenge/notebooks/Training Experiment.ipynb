{
 "cells": [
  {
   "cell_type": "code",
   "execution_count": 2,
   "metadata": {
    "collapsed": true
   },
   "outputs": [],
   "source": [
    "import tensorflow as tf \n",
    "import numpy as np\n",
    "\n"
   ]
  },
  {
   "cell_type": "code",
   "execution_count": 4,
   "metadata": {},
   "outputs": [
    {
     "data": {
      "text/plain": [
       "memmap([ 0, 51, 45, 28, 79,  1,  0,  1,  1,  1])"
      ]
     },
     "execution_count": 4,
     "metadata": {},
     "output_type": "execute_result"
    }
   ],
   "source": [
    "target = np.load('../datasets/geez-numeral-target.npz', 'r')\n",
    "data = np.load('../datasets/geez-numeral-data.npz', 'r')\n",
    "\n",
    "import sklearn.preprocessing\n",
    "\n",
    "\n",
    "## One hot encoding \n",
    "label_binarizer = sklearn.preprocessing.LabelBinarizer()\n",
    "label_binarizer.fit(range(max(target)))\n",
    "target = label_binarizer.transform(target)\n",
    "\n",
    "data[0]"
   ]
  },
  {
   "cell_type": "code",
   "execution_count": 134,
   "metadata": {
    "collapsed": true
   },
   "outputs": [],
   "source": [
    "x_train, y_train, x_test, y_test = data[:50], target[:50], data[50:], target[50:]"
   ]
  },
  {
   "cell_type": "code",
   "execution_count": 135,
   "metadata": {
    "collapsed": true
   },
   "outputs": [],
   "source": [
    "learning_rate = .1\n",
    "num_steps = 100\n",
    "batch_size = 10\n",
    "display_step = 2\n",
    "\n",
    "\n",
    "# Network Params \n",
    "n_hidden_1 = 10\n",
    "n_hidden_2 = 10\n",
    "num_input = 10 \n",
    "num_classes = 20 \n",
    "\n",
    "# tf Graph\n",
    "X = tf.placeholder('float', [None, num_input])\n",
    "Y = tf.placeholder('float', [None, num_classes])"
   ]
  },
  {
   "cell_type": "code",
   "execution_count": 136,
   "metadata": {
    "collapsed": true
   },
   "outputs": [],
   "source": [
    "weights = {\n",
    "    'h1' : tf.Variable(tf.random_normal([num_input, n_hidden_1])),\n",
    "    'h2' : tf.Variable(tf.random_normal([n_hidden_1, n_hidden_2])),\n",
    "    'out' : tf.Variable(tf.random_normal([n_hidden_2, num_classes])),\n",
    "}\n",
    "\n",
    "biases = {\n",
    "    'b1': tf.Variable(tf.random_normal([n_hidden_1])),\n",
    "    'b2': tf.Variable(tf.random_normal([n_hidden_2])),\n",
    "    'out': tf.Variable(tf.random_normal([num_classes]))\n",
    "}"
   ]
  },
  {
   "cell_type": "code",
   "execution_count": 137,
   "metadata": {
    "collapsed": true
   },
   "outputs": [],
   "source": [
    "def neural_net(x):\n",
    "    layer_1 = tf.add(tf.matmul(x, weights['h1']), biases['b1'])\n",
    "    \n",
    "    layer_2 = tf.add(tf.matmul(layer_1, weights['h2']), biases['b2'])\n",
    "    \n",
    "    out_layer = tf.matmul(layer_2, weights['out']) + biases['out']\n",
    "    \n",
    "    return out_layer"
   ]
  },
  {
   "cell_type": "code",
   "execution_count": 138,
   "metadata": {
    "collapsed": true
   },
   "outputs": [],
   "source": [
    "logits = neural_net(X)\n",
    "\n",
    "\n",
    "loss_op = tf.reduce_mean(tf.nn.softmax_cross_entropy_with_logits(logits=logits, labels=Y))\n",
    "\n",
    "optimizer = tf.train.AdamOptimizer(learning_rate=learning_rate)\n",
    "train_op = optimizer.minimize(loss_op)\n",
    "\n",
    "correct_pred = tf.equal(tf.argmax(logits, 1), tf.argmax(Y, 1))\n",
    "accuracy = tf.reduce_mean(tf.cast(correct_pred, tf.float32))\n",
    "\n",
    "init = tf.global_variables_initializer()"
   ]
  },
  {
   "cell_type": "code",
   "execution_count": 139,
   "metadata": {},
   "outputs": [
    {
     "name": "stdout",
     "output_type": "stream",
     "text": [
      "Testing Accuracy: 0.0\n",
      "Testing Accuracy: 0.0\n",
      "Testing Accuracy: 0.0\n",
      "Testing Accuracy: 0.0\n",
      "Testing Accuracy: 0.0909091\n",
      "Testing Accuracy: 0.0\n",
      "Testing Accuracy: 0.0\n",
      "Testing Accuracy: 0.0\n",
      "Testing Accuracy: 0.0909091\n",
      "Testing Accuracy: 0.0909091\n",
      "Testing Accuracy: 0.0909091\n",
      "Testing Accuracy: 0.0909091\n",
      "Testing Accuracy: 0.0909091\n",
      "Testing Accuracy: 0.0909091\n",
      "Testing Accuracy: 0.0\n",
      "Testing Accuracy: 0.0\n",
      "Testing Accuracy: 0.0909091\n",
      "Testing Accuracy: 0.0\n",
      "Testing Accuracy: 0.0\n",
      "Testing Accuracy: 0.0\n",
      "Testing Accuracy: 0.0\n",
      "Testing Accuracy: 0.0\n",
      "Testing Accuracy: 0.0909091\n",
      "Testing Accuracy: 0.0\n",
      "Testing Accuracy: 0.0\n",
      "Testing Accuracy: 0.0\n",
      "Testing Accuracy: 0.0\n",
      "Testing Accuracy: 0.0\n",
      "Testing Accuracy: 0.0\n",
      "Testing Accuracy: 0.0\n",
      "Testing Accuracy: 0.0\n",
      "Testing Accuracy: 0.0\n",
      "Testing Accuracy: 0.0\n",
      "Testing Accuracy: 0.0\n",
      "Testing Accuracy: 0.0\n",
      "Testing Accuracy: 0.0\n",
      "Testing Accuracy: 0.0\n",
      "Testing Accuracy: 0.0\n",
      "Testing Accuracy: 0.0\n",
      "Testing Accuracy: 0.0\n",
      "Testing Accuracy: 0.0909091\n",
      "Testing Accuracy: 0.0\n",
      "Testing Accuracy: 0.0\n",
      "Testing Accuracy: 0.0\n",
      "Testing Accuracy: 0.0\n",
      "Testing Accuracy: 0.0\n",
      "Testing Accuracy: 0.0\n",
      "Testing Accuracy: 0.0\n",
      "Testing Accuracy: 0.0\n",
      "Testing Accuracy: 0.0\n",
      "Testing Accuracy: 0.0\n",
      "Testing Accuracy: 0.0\n",
      "Testing Accuracy: 0.0\n",
      "Testing Accuracy: 0.0\n",
      "Testing Accuracy: 0.0\n",
      "Testing Accuracy: 0.0\n",
      "Testing Accuracy: 0.0\n",
      "Testing Accuracy: 0.0\n",
      "Testing Accuracy: 0.0\n",
      "Testing Accuracy: 0.0\n",
      "Testing Accuracy: 0.0\n",
      "Testing Accuracy: 0.0909091\n",
      "Testing Accuracy: 0.0\n",
      "Testing Accuracy: 0.0\n",
      "Testing Accuracy: 0.0\n",
      "Testing Accuracy: 0.0\n",
      "Testing Accuracy: 0.0\n",
      "Testing Accuracy: 0.0\n",
      "Testing Accuracy: 0.0\n",
      "Testing Accuracy: 0.0\n",
      "Testing Accuracy: 0.0\n",
      "Testing Accuracy: 0.0\n",
      "Testing Accuracy: 0.0\n",
      "Testing Accuracy: 0.0\n",
      "Testing Accuracy: 0.0\n",
      "Testing Accuracy: 0.0\n",
      "Testing Accuracy: 0.0\n",
      "Testing Accuracy: 0.0\n",
      "Testing Accuracy: 0.0\n",
      "Testing Accuracy: 0.0\n",
      "Testing Accuracy: 0.0\n",
      "Testing Accuracy: 0.0\n",
      "Testing Accuracy: 0.0\n",
      "Testing Accuracy: 0.0\n",
      "Testing Accuracy: 0.0\n",
      "Testing Accuracy: 0.0\n",
      "Testing Accuracy: 0.0\n",
      "Testing Accuracy: 0.0\n",
      "Testing Accuracy: 0.0\n",
      "Testing Accuracy: 0.0\n",
      "Testing Accuracy: 0.0\n",
      "Testing Accuracy: 0.0\n",
      "Testing Accuracy: 0.0\n",
      "Testing Accuracy: 0.0\n",
      "Testing Accuracy: 0.0\n",
      "Testing Accuracy: 0.0\n",
      "Testing Accuracy: 0.0\n",
      "Testing Accuracy: 0.0\n",
      "Testing Accuracy: 0.0\n",
      "Testing Accuracy: 0.0\n"
     ]
    }
   ],
   "source": [
    "## Training \n",
    "\n",
    "with tf.Session() as sess:\n",
    "    sess.run(init)\n",
    "    \n",
    "    for step in range(1, num_steps+1):\n",
    "        sess.run(train_op, feed_dict={X: x_train, Y: y_train})\n",
    "        \n",
    "        if step % 5 == 0: \n",
    "            pass\n",
    "            loss, acc = sess.run([loss_op, accuracy], feed_dict={X:x_train, Y: y_train })\n",
    "            \n",
    "#             print('Step ' + str(step) + ', Mini batch Loss= ' + \\\n",
    "#                  \"{:.4f}\".format(loss) + \", Training Accuracy=\"+ \\\n",
    "#                  \"{:.3f}\".foramt(acc))\n",
    "            \n",
    "        print(\"Testing Accuracy:\", \\\n",
    "        sess.run(accuracy, feed_dict={X: x_test,\n",
    "                                      Y: y_test}))"
   ]
  },
  {
   "cell_type": "code",
   "execution_count": 112,
   "metadata": {},
   "outputs": [
    {
     "data": {
      "text/plain": [
       "<tf.Tensor 'add_6:0' shape=(?, 20) dtype=float32>"
      ]
     },
     "execution_count": 112,
     "metadata": {},
     "output_type": "execute_result"
    }
   ],
   "source": [
    "logits\n"
   ]
  }
 ],
 "metadata": {
  "kernelspec": {
   "display_name": "aohcr",
   "language": "python",
   "name": "aohcr"
  },
  "language_info": {
   "codemirror_mode": {
    "name": "ipython",
    "version": 3
   },
   "file_extension": ".py",
   "mimetype": "text/x-python",
   "name": "python",
   "nbconvert_exporter": "python",
   "pygments_lexer": "ipython3",
   "version": "3.5.2"
  }
 },
 "nbformat": 4,
 "nbformat_minor": 2
}
